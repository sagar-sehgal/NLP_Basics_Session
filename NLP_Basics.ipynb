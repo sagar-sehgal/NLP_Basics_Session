{
 "cells": [
  {
   "cell_type": "markdown",
   "metadata": {},
   "source": [
    "# NLP and IR-Natural Language Processing and Inormation Retrival"
   ]
  },
  {
   "cell_type": "markdown",
   "metadata": {},
   "source": [
    "## Topics to be covered:-\n",
    "1. Tokenization\n",
    "2. Stemming\n",
    "3. Lemmatization\n",
    "4. Stop Words Removal\n",
    "4. Difference b/w Lemmatization and Stemming\n",
    "5. POS Tagging\n",
    "6. NER\n",
    "7. TF-IDF\n",
    "8. Building WordCloud\n"
   ]
  },
  {
   "cell_type": "markdown",
   "metadata": {},
   "source": [
    "### Most of the tutorial would be NLTK Tutorial only\n",
    " So main sources to study :-\n",
    "- NLTK Docs\n",
    "- Spacy Docs"
   ]
  },
  {
   "cell_type": "code",
   "execution_count": 1,
   "metadata": {},
   "outputs": [],
   "source": [
    "import nltk"
   ]
  },
  {
   "cell_type": "markdown",
   "metadata": {},
   "source": [
    "## 1. Tokenization"
   ]
  },
  {
   "cell_type": "markdown",
   "metadata": {},
   "source": [
    "Tokenizers is used to divide strings into lists of substrings."
   ]
  },
  {
   "cell_type": "markdown",
   "metadata": {},
   "source": [
    "**Sentence Tokenizer** can be used to find the list of sentences.\n",
    "\n",
    "Has an advantage over splitting on \".\" in python . \n",
    "Example:- See second second sentence in the previous example"
   ]
  },
  {
   "cell_type": "code",
   "execution_count": 2,
   "metadata": {},
   "outputs": [
    {
     "name": "stdout",
     "output_type": "stream",
     "text": [
      "['This thing seemed to overpower and astonish the little dark-brown dog, and wounded him to the heart.', \"Dr. Sam sank down in despair at the child's feet.\", 'When the blow was repeated, together with an admonition in childish sentences, he turned over upon his back, and held his paws in a peculiar manner.', 'At the same time with his ears and his eyes he offered a small prayer to the child.']\n"
     ]
    }
   ],
   "source": [
    "#  Sentence Tokenizer\n",
    "para=\"This thing seemed to overpower and astonish the little dark-brown dog, and wounded him to the heart. Dr. Sam sank down in despair at the child's feet. When the blow was repeated, together with an admonition in childish sentences, he turned over upon his back, and held his paws in a peculiar manner. At the same time with his ears and his eyes he offered a small prayer to the child.\"\n",
    "sent=nltk.sent_tokenize(para)\n",
    "print(sent)"
   ]
  },
  {
   "cell_type": "markdown",
   "metadata": {},
   "source": [
    "**Word Tokenizer** can be used to find the list of words in strings."
   ]
  },
  {
   "cell_type": "code",
   "execution_count": 3,
   "metadata": {},
   "outputs": [
    {
     "name": "stdout",
     "output_type": "stream",
     "text": [
      "Dr. Sam sank down in despair at the child's feet.\n",
      "['Dr.', 'Sam', 'sank', 'down', 'in', 'despair', 'at', 'the', 'child', \"'s\", 'feet', '.']\n"
     ]
    }
   ],
   "source": [
    "# Word Tokenizer\n",
    "from nltk.tokenize import word_tokenize\n",
    "sent=sent[1]\n",
    "print(sent)\n",
    "words=word_tokenize(sent)\n",
    "print(words)"
   ]
  },
  {
   "cell_type": "markdown",
   "metadata": {},
   "source": [
    "**Tweet Tokenizer** can be used to tokenize a Tweet in a much better way as compared to Tweet Tokenizer. You Can see the difference b/w them below."
   ]
  },
  {
   "cell_type": "code",
   "execution_count": 4,
   "metadata": {},
   "outputs": [
    {
     "name": "stdout",
     "output_type": "stream",
     "text": [
      "This is a cooool #dummysmiley: :-) :-P <3 and some arrows < > -> <--\n",
      "['This', 'is', 'a', 'cooool', '#', 'dummysmiley', ':', ':', '-', ')', ':', '-P', '<', '3', 'and', 'some', 'arrows', '<', '>', '-', '>', '<', '--']\n",
      "['This', 'is', 'a', 'cooool', '#dummysmiley', ':', ':-)', ':-P', '<3', 'and', 'some', 'arrows', '<', '>', '->', '<--']\n"
     ]
    }
   ],
   "source": [
    "from nltk.tokenize import TweetTokenizer\n",
    "tweettoken=TweetTokenizer()\n",
    "tweet=\"This is a cooool #dummysmiley: :-) :-P <3 and some arrows < > -> <--\"\n",
    "print(tweet)\n",
    "words=word_tokenize(tweet)\n",
    "print(words)\n",
    "words=tweettoken.tokenize(tweet)\n",
    "print(words)"
   ]
  },
  {
   "cell_type": "markdown",
   "metadata": {},
   "source": [
    "## 2. Stemming"
   ]
  },
  {
   "cell_type": "markdown",
   "metadata": {},
   "source": [
    "**Stemming** is the process of reducing inflection in words to their root forms such as mapping a group of words to the same stem even if the stem itself is not a valid word in the Language. "
   ]
  },
  {
   "cell_type": "code",
   "execution_count": 5,
   "metadata": {},
   "outputs": [],
   "source": [
    "from nltk.stem import PorterStemmer \n",
    "from nltk.tokenize import word_tokenize "
   ]
  },
  {
   "cell_type": "code",
   "execution_count": 46,
   "metadata": {},
   "outputs": [
    {
     "name": "stdout",
     "output_type": "stream",
     "text": [
      "replac\n",
      "cement\n"
     ]
    }
   ],
   "source": [
    "ps = PorterStemmer() \n",
    "print(ps.stem(\"replacement\"))\n",
    "print(ps.stem(\"cement\"))\n"
   ]
  },
  {
   "cell_type": "code",
   "execution_count": 7,
   "metadata": {},
   "outputs": [
    {
     "name": "stdout",
     "output_type": "stream",
     "text": [
      "['Programers', 'program', 'with', 'programing', 'languages']\n"
     ]
    }
   ],
   "source": [
    "sentence = \"Programers program with programing languages\"\n",
    "words = word_tokenize(sentence) \n",
    "print(words)"
   ]
  },
  {
   "cell_type": "code",
   "execution_count": 8,
   "metadata": {},
   "outputs": [
    {
     "name": "stdout",
     "output_type": "stream",
     "text": [
      "Programers \t program\n",
      "program \t program\n",
      "with \t with\n",
      "programing \t program\n",
      "languages \t languag\n"
     ]
    }
   ],
   "source": [
    "for w in words: \n",
    "    print(w, \"\\t\", ps.stem(w)) "
   ]
  },
  {
   "cell_type": "markdown",
   "metadata": {},
   "source": [
    "## 3. Lemmatiztion"
   ]
  },
  {
   "cell_type": "markdown",
   "metadata": {},
   "source": [
    "**Lemmatization**, unlike Stemming, reduces the inflected words properly ensuring that the root word belongs to the language. In Lemmatization root word is called Lemma. A lemma (plural lemmas or lemmata) is the canonical form, dictionary form, or citation form of a set of words."
   ]
  },
  {
   "cell_type": "code",
   "execution_count": 9,
   "metadata": {},
   "outputs": [],
   "source": [
    "from nltk.stem import WordNetLemmatizer "
   ]
  },
  {
   "cell_type": "code",
   "execution_count": 10,
   "metadata": {},
   "outputs": [
    {
     "data": {
      "text/plain": [
       "'language'"
      ]
     },
     "execution_count": 10,
     "metadata": {},
     "output_type": "execute_result"
    }
   ],
   "source": [
    "lemmatizer = WordNetLemmatizer() \n",
    "lemmatizer.lemmatize(\"language\")"
   ]
  },
  {
   "cell_type": "code",
   "execution_count": 11,
   "metadata": {},
   "outputs": [
    {
     "name": "stdout",
     "output_type": "stream",
     "text": [
      "['Programers', 'program', 'with', 'programing', 'languages']\n"
     ]
    }
   ],
   "source": [
    "sentence = \"Programers program with programing languages\"\n",
    "words = word_tokenize(sentence) \n",
    "print(words)"
   ]
  },
  {
   "cell_type": "code",
   "execution_count": 12,
   "metadata": {},
   "outputs": [
    {
     "name": "stdout",
     "output_type": "stream",
     "text": [
      "Programers \t Programers\n",
      "program \t program\n",
      "with \t with\n",
      "programing \t programing\n",
      "languages \t language\n"
     ]
    }
   ],
   "source": [
    "for w in words: \n",
    "    print(w, \"\\t\", lemmatizer.lemmatize(w)) "
   ]
  },
  {
   "cell_type": "markdown",
   "metadata": {},
   "source": [
    "## 4. Stop Word Removal"
   ]
  },
  {
   "cell_type": "code",
   "execution_count": 13,
   "metadata": {},
   "outputs": [],
   "source": [
    "from nltk.corpus import stopwords "
   ]
  },
  {
   "cell_type": "code",
   "execution_count": 14,
   "metadata": {},
   "outputs": [
    {
     "name": "stdout",
     "output_type": "stream",
     "text": [
      "{'against', 'it', 'theirs', 'each', 'itself', 'is', 'you', 'needn', 'what', 'having', 'about', 'we', 'which', 'other', 'themselves', 'hadn', \"should've\", \"aren't\", \"weren't\", 'whom', \"she's\", \"you've\", 'hasn', \"it's\", 'a', 't', 'shouldn', 'he', 'nor', 'himself', 'ma', 'does', 'herself', \"shouldn't\", 'the', 'and', 'my', 'where', 'they', 'at', 'o', 'didn', \"mustn't\", 'into', 'both', 'its', 'between', 'be', 'mustn', 'yourself', 'here', 'her', 'them', 'no', 'own', 'aren', \"you'll\", 'me', 'had', 'll', \"mightn't\", 'during', 'out', 'd', 'your', 'mightn', 'such', 'but', 'an', \"won't\", 've', 'only', 'down', 'further', \"shan't\", 'all', \"hasn't\", \"you'd\", 'then', 'with', 'those', 'why', 'ours', 'should', \"wouldn't\", 'any', 'off', \"that'll\", 'or', 'from', 'because', \"wasn't\", 'were', 'being', 'on', 'did', 'in', 'until', 'by', 'through', 'do', 'most', 'him', 'up', 'these', 'more', 'can', 'when', 'doesn', \"didn't\", 'don', 'before', 'just', 'has', 'as', \"needn't\", 'yourselves', 'than', 'of', 'yours', 'shan', 'some', \"you're\", 'couldn', 'above', 'doing', 'same', 'now', 'will', 'she', 'not', 'ourselves', 'are', \"don't\", 'isn', 'after', \"hadn't\", 'won', 're', 'below', 'have', 'again', 'how', 'for', 'under', 'y', 'if', 'wasn', 'few', 'this', 'hers', 'i', 'our', 'ain', \"isn't\", 'their', 'who', \"couldn't\", 'm', 'weren', 'been', \"doesn't\", \"haven't\", 'that', 'over', 'wouldn', 'once', 'am', 'haven', 'too', 'very', 'was', 'his', 'myself', 'so', 's', 'while', 'there', 'to'}\n"
     ]
    }
   ],
   "source": [
    "stop_words = set(stopwords.words('english')) \n",
    "print(stop_words)"
   ]
  },
  {
   "cell_type": "code",
   "execution_count": 15,
   "metadata": {},
   "outputs": [
    {
     "name": "stdout",
     "output_type": "stream",
     "text": [
      "['This', 'is', 'a', 'sample', 'sentence', ',', 'showing', 'off', 'the', 'stop', 'words', 'filtration', '.']\n"
     ]
    }
   ],
   "source": [
    "sentence = \"This is a sample sentence, showing off the stop words filtration.\"\n",
    "words = word_tokenize(sentence) \n",
    "print(words)"
   ]
  },
  {
   "cell_type": "code",
   "execution_count": 16,
   "metadata": {},
   "outputs": [
    {
     "name": "stdout",
     "output_type": "stream",
     "text": [
      "['This', 'sample', 'sentence', ',', 'showing', 'stop', 'words', 'filtration', '.']\n"
     ]
    }
   ],
   "source": [
    "filtered_sentence = [] \n",
    "for w in words: \n",
    "    if w not in stop_words: \n",
    "        filtered_sentence.append(w) \n",
    "print(filtered_sentence)"
   ]
  },
  {
   "cell_type": "markdown",
   "metadata": {},
   "source": [
    "## 5. Difference b/w Lemmatization and Stemming"
   ]
  },
  {
   "cell_type": "markdown",
   "metadata": {},
   "source": [
    "**Lemmatization** does brings it to the root word present in the langauge dictionary whereas **Stemming** doesn't do that .It just brings it to the root word without caring weather it is present in the language or not. \n",
    "So common technique :-\n",
    "- Tokenize\n",
    "- Stop Word Removal and Punctuation Removal\n",
    "- Lemmatization / Stemming"
   ]
  },
  {
   "cell_type": "code",
   "execution_count": 39,
   "metadata": {},
   "outputs": [
    {
     "name": "stdout",
     "output_type": "stream",
     "text": [
      "['This', 'is', 'a', 'sample', 'sentence', ',', 'showing', 'off', 'the', 'stop', 'words', 'filtration', '.']\n"
     ]
    }
   ],
   "source": [
    "sentence = \"This is a sample sentence, showing off the stop words filtration.\"\n",
    "words = word_tokenize(sentence) \n",
    "print(words)"
   ]
  },
  {
   "cell_type": "code",
   "execution_count": 38,
   "metadata": {},
   "outputs": [
    {
     "name": "stdout",
     "output_type": "stream",
     "text": [
      "['The', 'men', 'running', 'fog', 'passed', 'bunnies', 'working', 'computer', 'scientists']\n"
     ]
    }
   ],
   "source": [
    "import string\n",
    "stop_removed_sent=[]\n",
    "for i in words:\n",
    "    if i not in stop_words and i not in string.punctuation: \n",
    "        stop_removed_sent.append(i) \n",
    "print(stop_removed_sent)"
   ]
  },
  {
   "cell_type": "code",
   "execution_count": 40,
   "metadata": {},
   "outputs": [
    {
     "name": "stdout",
     "output_type": "stream",
     "text": [
      "['the', 'men', 'running', 'fog', 'passed', 'bunny', 'working', 'computer', 'scientist']\n"
     ]
    }
   ],
   "source": [
    "lemmatizer = WordNetLemmatizer() \n",
    "# ps = PorterStemmer() \n",
    "lemmatize_stem=[]\n",
    "for i in stop_removed_sent:\n",
    "    lemmatize_stem.append(lemmatizer.lemmatize(i).lower())\n",
    "#     lemmatize_stem.append(ps.stem(i))\n",
    "print(lemmatize_stem)"
   ]
  },
  {
   "cell_type": "markdown",
   "metadata": {},
   "source": [
    "### Stemming or Lemmatization?\n",
    "\n",
    "**Simmilarity:-**\n",
    "Stemming and Lemmatization both generate the root word form the inflected words. \n",
    "\n",
    "**Difference:-**\n",
    "- Stem might not be an actual word whereas, lemma is an actual language word.\n",
    "- Stemming follows an algorithm with steps to perform on the words which makes it faster. Whereas, in lemmatization, you used WordNet corpus and a corpus for stop words as well to produce lemma which makes it slower than stemming. \n",
    "\n",
    "**So when to use what?** \n",
    "\n",
    "It depends on the application you are working on that decides if stemmers should be used or lemmatizers.  \n",
    "\n",
    "- If speed is focused then stemming should be used since lemmatizers scan a corpus which consumed time and processing. \n",
    "\n",
    "- If you are building a language application in which language is important you should use lemmatization as it uses a corpus to match root forms."
   ]
  },
  {
   "cell_type": "markdown",
   "metadata": {},
   "source": [
    "## 6. POS(Part Of Speech) Tagging"
   ]
  },
  {
   "cell_type": "markdown",
   "metadata": {},
   "source": [
    "The **Part Of Speech** explains how a word is used in a sentence. There are eight main parts of speech - nouns, pronouns, adjectives, verbs, adverbs, prepositions, conjunctions and interjections.\n",
    "\n",
    "For each word-token the nltk **pos_tag** method can be used to classify its Part of Speech (POS), automating the classification of words into their parts of speech and labeling them accordingly.\n",
    "\n",
    "The outcome depends on how the sentence has been split up into individual tokens and which Tokenizer and Corpus the POS-tagger has been trained against.\n",
    "\n",
    "#### PoS Tag Descriptions\n",
    "\n",
    "- CC | Coordinating conjunction\n",
    "- CD | Cardinal number\n",
    "- DT | Determiner\n",
    "- EX | Existential there\n",
    "- FW | Foreign word\n",
    "- IN | Preposition or subordinating conjunction\n",
    "- JJ | Adjective\n",
    "- JJR | Adjective, comparative\n",
    "- JJS | Adjective, superlative\n",
    "- LS | List item marker\n",
    "- MD | Modal\n",
    "- NN | Noun, singular or mass\n",
    "- NNS | Noun, plural\n",
    "- NNP | Proper noun, singular\n",
    "- NNPS | Proper noun, plural\n",
    "- PDT | Predeterminer\n",
    "- POS | Possessive ending\n",
    "- PRP | Personal pronoun\n",
    "- PRP\\$ | Possessive pronoun \n",
    "- RB | Adverb \n",
    "- RBR | Adverb, comparative\n",
    "- RBS | Adverb, superlative \n",
    "- RP | Particle \n",
    "- SYM | Symbol \n",
    "- TO | to \n",
    "- UH | Interjection \n",
    "- VB | Verb, base form \n",
    "- VBD | Verb, past tense \n",
    "- VBG | Verb, gerund or present participle \n",
    "- VBN | -Verb, past participle \n",
    "- VBP | Verb, non-3rd person singular present \n",
    "- VBZ | Verb, 3rd person singular present \n",
    "- WDT | Wh--determiner \n",
    "- WP | Wh-pronoun -\n",
    "- WP$ | Possessive wh-pronoun-\n",
    "- WRB | Wh-adverb\n",
    "\n",
    "\n",
    "\n",
    "Stanford POS Tagging:-\n",
    "http://nlp.stanford.edu:8080/parser/index.jsp"
   ]
  },
  {
   "cell_type": "code",
   "execution_count": 20,
   "metadata": {},
   "outputs": [
    {
     "name": "stdout",
     "output_type": "stream",
     "text": [
      "['The', 'men', 'running', 'in', 'the', 'fog', 'passed', 'bunnies', 'working', 'as', 'computer', 'scientists', '.']\n"
     ]
    }
   ],
   "source": [
    "sentence = \"The men running in the fog passed bunnies working as computer scientists.\"\n",
    "words = word_tokenize(sentence) \n",
    "print(words)"
   ]
  },
  {
   "cell_type": "code",
   "execution_count": 21,
   "metadata": {},
   "outputs": [
    {
     "name": "stdout",
     "output_type": "stream",
     "text": [
      "[('The', 'DT'), ('men', 'NNS'), ('running', 'VBG'), ('in', 'IN'), ('the', 'DT'), ('fog', 'NN'), ('passed', 'VBD'), ('bunnies', 'NNS'), ('working', 'VBG'), ('as', 'IN'), ('computer', 'NN'), ('scientists', 'NNS'), ('.', '.')]\n"
     ]
    }
   ],
   "source": [
    "pos_sent=nltk.pos_tag(words)\n",
    "print(pos_sent)"
   ]
  },
  {
   "cell_type": "markdown",
   "metadata": {},
   "source": [
    "## 7. NER(Named Entity Recognition) "
   ]
  },
  {
   "cell_type": "markdown",
   "metadata": {},
   "source": [
    "**Named Entity Recognition** seeks to locate and classify Named Entity Mentions in unstructured text into pre-defined categories such as the Person Names, Organizations, Locations, etc. \n",
    "\n",
    "Stanford Online NER:-http://nlp.stanford.edu:8080/ner/process\n",
    " \n",
    "We would be using Spacy for Named Entity Recognition.\n"
   ]
  },
  {
   "cell_type": "code",
   "execution_count": null,
   "metadata": {},
   "outputs": [],
   "source": [
    "import spacy\n",
    "\n",
    "nlp = spacy.load('en_core_web_sm')\n",
    "doc = nlp(u'Apple is looking at buying U.K. startup for $1 billion')\n",
    "for ent in doc.ents:\n",
    "    print(ent.text,ent.label_)"
   ]
  },
  {
   "cell_type": "markdown",
   "metadata": {},
   "source": [
    "## 8. TF-IDF(Term Frequency - Inverse Document Frequency)"
   ]
  },
  {
   "cell_type": "markdown",
   "metadata": {},
   "source": [
    "**Term frequency (TF)** is how often a word appears in a document, divided by how many words there are.\n",
    "Term frequency is how common a word is\n",
    "\n",
    "**inverse document frequency (IDF)** is how unique or rare a word is.\n",
    "\n",
    "IDF used over many documents, whereas TF is built for one document. You can decide what a document is. In this article, each sentence is its own document.\n",
    "\n",
    "For more info:- https://machinelearningmastery.com/prepare-text-data-machine-learning-scikit-learn/"
   ]
  },
  {
   "cell_type": "markdown",
   "metadata": {},
   "source": [
    "<img src=\"./tf-idf.jpg\">"
   ]
  },
  {
   "cell_type": "code",
   "execution_count": 24,
   "metadata": {},
   "outputs": [],
   "source": [
    "from sklearn.feature_extraction.text import TfidfVectorizer\n",
    "text = [\"The quick brown fox jumped over the lazy dog.\",\n",
    "        \"The dog.\",\n",
    "        \"The fox\"]"
   ]
  },
  {
   "cell_type": "code",
   "execution_count": 25,
   "metadata": {},
   "outputs": [
    {
     "data": {
      "text/plain": [
       "TfidfVectorizer(analyzer='word', binary=False, decode_error='strict',\n",
       "        dtype=<class 'numpy.float64'>, encoding='utf-8', input='content',\n",
       "        lowercase=True, max_df=1.0, max_features=None, min_df=1,\n",
       "        ngram_range=(1, 1), norm='l2', preprocessor=None, smooth_idf=True,\n",
       "        stop_words=None, strip_accents=None, sublinear_tf=False,\n",
       "        token_pattern='(?u)\\\\b\\\\w\\\\w+\\\\b', tokenizer=None, use_idf=True,\n",
       "        vocabulary=None)"
      ]
     },
     "execution_count": 25,
     "metadata": {},
     "output_type": "execute_result"
    }
   ],
   "source": [
    "vectorizer = TfidfVectorizer()\n",
    "# tokenize and build vocab\n",
    "vectorizer.fit(text)"
   ]
  },
  {
   "cell_type": "code",
   "execution_count": 26,
   "metadata": {},
   "outputs": [
    {
     "name": "stdout",
     "output_type": "stream",
     "text": [
      "{'jumped': 3, 'dog': 1, 'the': 7, 'over': 5, 'brown': 0, 'fox': 2, 'lazy': 4, 'quick': 6}\n",
      "[1.69314718 1.28768207 1.28768207 1.69314718 1.69314718 1.69314718\n",
      " 1.69314718 1.        ]\n"
     ]
    }
   ],
   "source": [
    "# summarize\n",
    "print(vectorizer.vocabulary_)\n",
    "print(vectorizer.idf_)"
   ]
  },
  {
   "cell_type": "code",
   "execution_count": 27,
   "metadata": {},
   "outputs": [],
   "source": [
    "# encode document\n",
    "vector = vectorizer.transform(text)"
   ]
  },
  {
   "cell_type": "code",
   "execution_count": 42,
   "metadata": {},
   "outputs": [
    {
     "name": "stdout",
     "output_type": "stream",
     "text": [
      "(3, 8)\n",
      "[[0.36388646 0.27674503 0.27674503 0.36388646 0.36388646 0.36388646\n",
      "  0.36388646 0.42983441]\n",
      " [0.         0.78980693 0.         0.         0.         0.\n",
      "  0.         0.61335554]\n",
      " [0.         0.         0.78980693 0.         0.         0.\n",
      "  0.         0.61335554]]\n"
     ]
    }
   ],
   "source": [
    "# summarize encoded vector\n",
    "print(vector.shape)\n",
    "print(vector.toarray())"
   ]
  },
  {
   "cell_type": "markdown",
   "metadata": {},
   "source": [
    "Can you think some of the problems with this ???"
   ]
  },
  {
   "cell_type": "markdown",
   "metadata": {},
   "source": [
    "## 9. Making a Word-Cloud"
   ]
  },
  {
   "cell_type": "code",
   "execution_count": 29,
   "metadata": {},
   "outputs": [
    {
     "name": "stdout",
     "output_type": "stream",
     "text": [
      "Collecting matplotlib\n",
      "  Using cached https://files.pythonhosted.org/packages/ad/4c/0415f15f96864c3a2242b1c74041a806c100c1b21741206c5d87684437c6/matplotlib-3.0.2-cp35-cp35m-manylinux1_x86_64.whl\n",
      "Collecting cycler>=0.10 (from matplotlib)\n",
      "  Using cached https://files.pythonhosted.org/packages/f7/d2/e07d3ebb2bd7af696440ce7e754c59dd546ffe1bbe732c8ab68b9c834e61/cycler-0.10.0-py2.py3-none-any.whl\n",
      "Collecting kiwisolver>=1.0.1 (from matplotlib)\n",
      "  Using cached https://files.pythonhosted.org/packages/7e/31/d6fedd4fb2c94755cd101191e581af30e1650ccce7a35bddb7930fed6574/kiwisolver-1.0.1-cp35-cp35m-manylinux1_x86_64.whl\n",
      "Collecting pyparsing!=2.0.4,!=2.1.2,!=2.1.6,>=2.0.1 (from matplotlib)\n",
      "\u001b[?25l  Downloading https://files.pythonhosted.org/packages/de/0a/001be530836743d8be6c2d85069f46fecf84ac6c18c7f5fb8125ee11d854/pyparsing-2.3.1-py2.py3-none-any.whl (61kB)\n",
      "\u001b[K    100% |████████████████████████████████| 71kB 644kB/s ta 0:00:01\n",
      "\u001b[?25hRequirement already satisfied: numpy>=1.10.0 in /home/sagar/practise/lib/python3.5/site-packages (from matplotlib) (1.16.2)\n",
      "Requirement already satisfied: python-dateutil>=2.1 in /home/sagar/practise/lib/python3.5/site-packages (from matplotlib) (2.8.0)\n",
      "Requirement already satisfied: six in /home/sagar/practise/lib/python3.5/site-packages (from cycler>=0.10->matplotlib) (1.12.0)\n",
      "Requirement already satisfied: setuptools in /home/sagar/practise/lib/python3.5/site-packages (from kiwisolver>=1.0.1->matplotlib) (40.8.0)\n",
      "Installing collected packages: cycler, kiwisolver, pyparsing, matplotlib\n",
      "Successfully installed cycler-0.10.0 kiwisolver-1.0.1 matplotlib-3.0.2 pyparsing-2.3.1\n",
      "Collecting pandas\n",
      "\u001b[?25l  Downloading https://files.pythonhosted.org/packages/e2/a3/c42cd52e40527ba35aed53a988c485ffeddbae0722b8b756da82464baa73/pandas-0.24.1-cp35-cp35m-manylinux1_x86_64.whl (10.0MB)\n",
      "\u001b[K    100% |████████████████████████████████| 10.0MB 464kB/s ta 0:00:01\n",
      "\u001b[?25hRequirement already satisfied: numpy>=1.12.0 in /home/sagar/practise/lib/python3.5/site-packages (from pandas) (1.16.2)\n",
      "Collecting pytz>=2011k (from pandas)\n",
      "  Using cached https://files.pythonhosted.org/packages/61/28/1d3920e4d1d50b19bc5d24398a7cd85cc7b9a75a490570d5a30c57622d34/pytz-2018.9-py2.py3-none-any.whl\n",
      "Requirement already satisfied: python-dateutil>=2.5.0 in /home/sagar/practise/lib/python3.5/site-packages (from pandas) (2.8.0)\n",
      "Requirement already satisfied: six>=1.5 in /home/sagar/practise/lib/python3.5/site-packages (from python-dateutil>=2.5.0->pandas) (1.12.0)\n",
      "Installing collected packages: pytz, pandas\n",
      "Successfully installed pandas-0.24.1 pytz-2018.9\n",
      "Collecting wordcloud\n",
      "  Using cached https://files.pythonhosted.org/packages/5e/b7/c16286efa3d442d6983b3842f982502c00306c1a4c719c41fb00d6017c77/wordcloud-1.5.0-cp35-cp35m-manylinux1_x86_64.whl\n",
      "Collecting pillow (from wordcloud)\n",
      "  Using cached https://files.pythonhosted.org/packages/8b/e9/5c47710fe383f0582da668302a80a6355fe15c2ce2dde89b50fe34acefa6/Pillow-5.4.1-cp35-cp35m-manylinux1_x86_64.whl\n",
      "Requirement already satisfied: numpy>=1.6.1 in /home/sagar/practise/lib/python3.5/site-packages (from wordcloud) (1.16.2)\n",
      "Installing collected packages: pillow, wordcloud\n",
      "Successfully installed pillow-5.4.1 wordcloud-1.5.0\n"
     ]
    }
   ],
   "source": [
    "!pip install matplotlib\n",
    "!pip install pandas\n",
    "!pip install wordcloud"
   ]
  },
  {
   "cell_type": "code",
   "execution_count": 47,
   "metadata": {},
   "outputs": [
    {
     "data": {
      "image/png": "[encoded data removed]",
      "text/plain": [
       "<Figure size 576x576 with 1 Axes>"
      ]
     },
     "metadata": {
      "needs_background": "light"
     },
     "output_type": "display_data"
    }
   ],
   "source": [
    "from wordcloud import WordCloud, STOPWORDS \n",
    "import matplotlib.pyplot as plt \n",
    "f=open(\"ai.txt\",\"r\")\n",
    "l=[]\n",
    "for i in f: \n",
    "    tokens = word_tokenize(i)\n",
    "    for i in range(len(tokens)): \n",
    "        tokens[i] = tokens[i].lower()          \n",
    "    l+=tokens\n",
    "l=\" \".join(l)\n",
    "wordcloud = WordCloud(width = 800, height = 800, \n",
    "                background_color ='white', \n",
    "                stopwords = set(nltk.corpus.stopwords.words('english')), \n",
    "                min_font_size = 25).generate(l) \n",
    "  \n",
    "# plot the WordCloud image                        \n",
    "plt.figure(figsize = (8, 8), facecolor = None) \n",
    "plt.imshow(wordcloud) \n",
    "plt.axis(\"off\") \n",
    "plt.tight_layout(pad = 0) \n",
    "plt.show() "
   ]
  }
 ],
 "metadata": {
  "kernelspec": {
   "display_name": "Python 3",
   "language": "python",
   "name": "python3"
  },
  "language_info": {
   "codemirror_mode": {
    "name": "ipython",
    "version": 3
   },
   "file_extension": ".py",
   "mimetype": "text/x-python",
   "name": "python",
   "nbconvert_exporter": "python",
   "pygments_lexer": "ipython3",
   "version": "3.5.2"
  }
 },
 "nbformat": 4,
 "nbformat_minor": 2
}
